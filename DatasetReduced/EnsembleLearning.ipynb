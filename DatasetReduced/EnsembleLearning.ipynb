{
 "cells": [
  {
   "cell_type": "code",
   "execution_count": 1,
   "metadata": {},
   "outputs": [],
   "source": [
    "import os\n",
    "import pandas as pd\n",
    "import numpy as np\n",
    "from combat.pycombat import pycombat\n",
    "from sklearn.model_selection import GroupShuffleSplit\n",
    "from sklearn.pipeline import Pipeline\n",
    "from sklearn.preprocessing import MinMaxScaler\n",
    "from sklearn.svm import SVC\n",
    "from sklearn.ensemble import RandomForestClassifier\n",
    "from sklearn.linear_model import LogisticRegression\n",
    "from sklearn.neighbors import KNeighborsClassifier\n",
    "from sklearn.ensemble import GradientBoostingClassifier\n",
    "from sklearn.ensemble import HistGradientBoostingClassifier\n",
    "from sklearn.naive_bayes import GaussianNB\n",
    "import joblib\n",
    "from sklearn.metrics import classification_report\n",
    "from sklearn.ensemble import VotingClassifier\n",
    "import matplotlib.pyplot as plt\n",
    "from sklearn.model_selection import LearningCurveDisplay, learning_curve\n",
    "from sklearn.metrics import RocCurveDisplay"
   ]
  },
  {
   "cell_type": "code",
   "execution_count": 2,
   "metadata": {},
   "outputs": [],
   "source": [
    "os.chdir(\"../../Dataset/Merged\")"
   ]
  },
  {
   "cell_type": "markdown",
   "metadata": {},
   "source": [
    "Creazione Training e Test"
   ]
  },
  {
   "cell_type": "code",
   "execution_count": 3,
   "metadata": {},
   "outputs": [
    {
     "name": "stdout",
     "output_type": "stream",
     "text": [
      "Found 6 batches.\n",
      "Adjusting for 0 covariate(s) or covariate level(s).\n",
      "Standardizing Data across genes.\n",
      "Fitting L/S model and finding priors.\n",
      "Finding parametric adjustments.\n"
     ]
    },
    {
     "name": "stderr",
     "output_type": "stream",
     "text": [
      "C:\\Users\\samue\\AppData\\Roaming\\Python\\Python311\\site-packages\\combat\\pycombat.py:159: RuntimeWarning: divide by zero encountered in divide\n",
      "  np.absolute(d_new-d_old)/d_old))  # maximum difference between new and old estimate\n"
     ]
    },
    {
     "name": "stdout",
     "output_type": "stream",
     "text": [
      "Adjusting the Data\n",
      "                                         SampleID      PatientID  Label  \\\n",
      "0                        0-GSM1026056_600009.0001  0-600009.0001      1   \n",
      "1             0-GSM1026057_600009.0001-FollowUp_1  0-600009.0001      1   \n",
      "2                         0-GSM1026058_41461.0001   0-41461.0001      1   \n",
      "3                         0-GSM1026059_41462.0001   0-41462.0001      1   \n",
      "4                        0-GSM1026060_600029.0001  0-600029.0001      1   \n",
      "...                                           ...            ...    ...   \n",
      "1799  5-GSM2347715_NT142_W18D2-Control-FollowUp_1  5-NT142_W18D2      0   \n",
      "1800  5-GSM2347717_NT041_W18D2-Control-FollowUp_2  5-NT041_W18D2      0   \n",
      "1801  5-GSM2347719_NT142_W18D2-Control-FollowUp_2  5-NT142_W18D2      0   \n",
      "1802  5-GSM2347721_NT041_W18D2-Control-FollowUp_3  5-NT041_W18D2      0   \n",
      "1803  5-GSM2347723_NT142_W18D2-Control-FollowUp_3  5-NT142_W18D2      0   \n",
      "\n",
      "        STEEP1   SEC14L1     YIPF5    SLC1A5        C2      NOL6     SPRR3  \\\n",
      "0     5.140886  8.939040  7.488400  7.308738  5.041389  7.277062  4.196267   \n",
      "1     5.329654  8.963625  7.489870  7.253862  5.052384  7.265726  4.194572   \n",
      "2     5.334372  8.988408  7.494769  7.255859  5.088023  7.264864  4.238121   \n",
      "3     5.569576  8.951902  7.528364  7.242488  4.982092  7.261708  4.153170   \n",
      "4     5.400919  8.974480  7.506864  7.262843  5.105506  7.250928  4.162485   \n",
      "...        ...       ...       ...       ...       ...       ...       ...   \n",
      "1799  5.609098  8.824586  7.598167  6.961956  4.745473  7.147771  4.175185   \n",
      "1800  5.493972  9.086668  7.444133  7.146979  5.391719  7.108745  4.200994   \n",
      "1801  4.592469  8.675869  7.609213  6.715370  4.550844  7.096102  4.157819   \n",
      "1802  5.992676  9.085231  7.454065  7.371060  5.636887  7.157697  4.151017   \n",
      "1803  5.547987  8.728035  7.581867  6.792434  4.405267  7.090149  4.265779   \n",
      "\n",
      "      ...     PALLD     KRCC1     RAB25  CATSPERB      PAX8     KCNG1  \\\n",
      "0     ...  5.308174  7.072927  4.488145  4.631166  6.337192  5.362835   \n",
      "1     ...  5.289479  7.079105  4.536805  4.606074  6.356049  5.377468   \n",
      "2     ...  5.314215  7.115176  4.518818  4.597691  6.388240  5.391885   \n",
      "3     ...  5.269752  7.316362  4.446099  4.676782  6.334405  5.321966   \n",
      "4     ...  5.243430  7.192371  4.505834  4.569492  6.339356  5.303483   \n",
      "...   ...       ...       ...       ...       ...       ...       ...   \n",
      "1799  ...  5.767658  7.442899  4.478639  5.736174  6.343809  5.550462   \n",
      "1800  ...  5.437960  7.321505  4.442908  4.189680  6.385842  5.210415   \n",
      "1801  ...  5.251095  7.349944  4.397669  5.718701  6.316099  5.223182   \n",
      "1802  ...  5.549232  7.321264  4.439630  4.270849  6.389187  5.204595   \n",
      "1803  ...  5.537877  7.245087  4.513218  5.564480  6.326717  5.308253   \n",
      "\n",
      "         TRAF3      POLI      OPA1    NKX2-8  \n",
      "0     7.506855  7.187923  8.141370  5.397719  \n",
      "1     7.499798  7.146426  8.103407  5.415061  \n",
      "2     7.493658  7.140231  8.059044  5.411218  \n",
      "3     7.537081  7.224992  8.124222  5.373220  \n",
      "4     7.502487  7.156748  8.130588  5.387827  \n",
      "...        ...       ...       ...       ...  \n",
      "1799  7.433912  7.239027  8.312906  5.376982  \n",
      "1800  7.423804  6.959910  8.279451  5.416526  \n",
      "1801  7.359203  7.210399  8.288896  5.373969  \n",
      "1802  7.477365  7.187913  8.246703  5.394664  \n",
      "1803  7.281103  7.264024  8.165498  5.375205  \n",
      "\n",
      "[1804 rows x 12094 columns]\n",
      "Dataset di train:\n",
      "(1340, 12094)\n",
      "I malati sono:  521\n",
      "I sani sono:  819\n",
      "\n",
      "Dataset di test:\n",
      "(464, 12094)\n",
      "I malati sono:  177\n",
      "I sani sono:  287\n"
     ]
    }
   ],
   "source": [
    "dataset = pd.read_csv('MergedDataset-136411.csv', index_col=0)\n",
    "\n",
    "sampleID = dataset['SampleID']\n",
    "datasetID = dataset['SampleID'].apply(lambda x: x.split('-')[0]).values\n",
    "indicator = dataset['Label']\n",
    "dataset = dataset.drop(columns=['SampleID', 'Label'])\n",
    "\n",
    "dataset = pycombat(dataset.transpose(), datasetID).transpose()\n",
    "dataset.insert(0, 'SampleID', sampleID)\n",
    "dataset.insert(1, 'Label', indicator)\n",
    "\n",
    "def getPatientID(sampleID):\n",
    "    return sampleID.split('-')[0] + '-' + sampleID.split('-')[1].split('_', 1)[1]\n",
    "\n",
    "dataset.insert(1, 'PatientID', dataset['SampleID'].apply(getPatientID))\n",
    "print(dataset)\n",
    "\n",
    "gruppi = dataset.groupby('PatientID')\n",
    "\n",
    "def sanity_check(gruppi):\n",
    "    for group_name, group_data in gruppi:\n",
    "        if 'Control' in group_data['SampleID'].iloc[0]:\n",
    "            for e in group_data['SampleID']:\n",
    "                if not 'Control' in e:\n",
    "                    print(\"Errore in gruppo:\", group_name)\n",
    "                    break\n",
    "        else:\n",
    "            for e in group_data['SampleID']:\n",
    "                if 'Control' in e:\n",
    "                    print(\"Errore in gruppo:\", group_name)\n",
    "                    break\n",
    "\n",
    "sanity_check(gruppi)\n",
    "\n",
    "splitter = GroupShuffleSplit(n_splits=2, test_size=0.25, random_state = 42)\n",
    "split = splitter.split(dataset, groups=dataset['PatientID'])\n",
    "train_inds, test_inds = next(split)\n",
    "\n",
    "train = dataset.iloc[train_inds].sample(frac=1, random_state=42)\n",
    "test = dataset.iloc[test_inds].sample(frac=1, random_state=42)\n",
    "\n",
    "print(\"Dataset di train:\")\n",
    "print(train.shape)\n",
    "print(\"I malati sono: \", sum(train['Label'] == 1))\n",
    "print(\"I sani sono: \", sum(train['Label'] == 0))\n",
    "\n",
    "print(\"\\nDataset di test:\")\n",
    "print(test.shape)\n",
    "print(\"I malati sono: \", sum(test['Label'] == 1))\n",
    "print(\"I sani sono: \", sum(test['Label'] == 0))\n",
    "\n",
    "y_train = train['Label']\n",
    "x_train = train.drop(columns=['SampleID', 'Label', 'PatientID'])\n",
    "\n",
    "y_test = test['Label']\n",
    "x_test = test.drop(columns=['SampleID', 'Label', 'PatientID'])"
   ]
  },
  {
   "cell_type": "markdown",
   "metadata": {},
   "source": [
    "Caricamento modelli"
   ]
  },
  {
   "cell_type": "code",
   "execution_count": 5,
   "metadata": {},
   "outputs": [],
   "source": [
    "svc = joblib.load('../../Modelli/DatasetReduced/svc.pkl')\n",
    "randomForest = joblib.load('../../Modelli/DatasetReduced/randomForest.pkl')\n",
    "elasticNet = joblib.load('../../Modelli/DatasetReduced/elasticNet.pkl')\n",
    "knn = joblib.load('../../Modelli/DatasetReduced/knn.pkl')\n",
    "HistgradientBoosting = joblib.load('../../Modelli/DatasetReduced/HistGradientBoosting.pkl')\n",
    "GradientBoosting = joblib.load('../../Modelli/DatasetReduced/GradientBoosting.pkl')\n",
    "naiveBayes = joblib.load('../../Modelli/DatasetReduced/naiveBayes.pkl')"
   ]
  },
  {
   "cell_type": "markdown",
   "metadata": {},
   "source": [
    "Modello Ensemble"
   ]
  },
  {
   "cell_type": "code",
   "execution_count": 6,
   "metadata": {},
   "outputs": [],
   "source": [
    "newSvc = SVC(C=svc.best_params_['classifier__C'], kernel=svc.best_params_['classifier__kernel'], gamma=svc.best_params_['classifier__gamma'], probability=True)\n",
    "newRandomForest = RandomForestClassifier(n_estimators=randomForest.best_params_['classifier__n_estimators'], max_depth=randomForest.best_params_['classifier__max_depth'])\n",
    "newElasticNet = LogisticRegression(penalty=elasticNet.best_params_['classifier__penalty'], C=elasticNet.best_params_['classifier__C'], l1_ratio=elasticNet.best_params_['classifier__l1_ratio'], solver=elasticNet.best_params_['classifier__solver'])\n",
    "newKnn = KNeighborsClassifier(n_neighbors=knn.best_params_['classifier__n_neighbors'], weights=knn.best_params_['classifier__weights'])\n",
    "newHistGradientBoosting = HistGradientBoostingClassifier(learning_rate=HistgradientBoosting.best_params_['classifier__learning_rate'], max_iter=HistgradientBoosting.best_params_['classifier__max_iter'], max_depth=HistgradientBoosting.best_params_['classifier__max_depth'])\n",
    "newGradientBoosting = GradientBoostingClassifier(learning_rate=GradientBoosting.best_params_['classifier__learning_rate'], n_estimators=GradientBoosting.best_params_['classifier__n_estimators'], max_depth=GradientBoosting.best_params_['classifier__max_depth'])\n",
    "newNaiveBayes = GaussianNB();"
   ]
  },
  {
   "cell_type": "code",
   "execution_count": null,
   "metadata": {},
   "outputs": [],
   "source": [
    "ensembleModel = VotingClassifier(estimators=[('svc', newSvc), ('randomForest', newRandomForest), ('HistGradientBoosting', newHistGradientBoosting), ('gradientBoosting', newGradientBoosting), ('naiveBayes', newNaiveBayes)], voting='hard')\n",
    "ensemble = Pipeline(steps=[('scaler', MinMaxScaler()), ('classifier', ensembleModel)])\n",
    "ensemble.fit(x_train, y_train)"
   ]
  },
  {
   "cell_type": "code",
   "execution_count": 5,
   "metadata": {},
   "outputs": [
    {
     "name": "stdout",
     "output_type": "stream",
     "text": [
      "Ensemble model:\n",
      "Iperparametri:  VotingClassifier(estimators=[('svc',\n",
      "                              SVC(C=128, gamma=0.0078125, probability=True)),\n",
      "                             ('randomForest',\n",
      "                              RandomForestClassifier(max_depth=12,\n",
      "                                                     n_estimators=225)),\n",
      "                             ('HistGradientBoosting',\n",
      "                              HistGradientBoostingClassifier(max_depth=9)),\n",
      "                             ('gradientBoosting',\n",
      "                              GradientBoostingClassifier(n_estimators=200)),\n",
      "                             ('naiveBayes', GaussianNB())])\n",
      "Training accuracy:  1.0\n",
      "Test accuracy:  0.9461206896551724\n",
      "              precision    recall  f1-score   support\n",
      "\n",
      "           0       0.96      0.95      0.96       287\n",
      "           1       0.92      0.94      0.93       177\n",
      "\n",
      "    accuracy                           0.95       464\n",
      "   macro avg       0.94      0.94      0.94       464\n",
      "weighted avg       0.95      0.95      0.95       464\n",
      "\n"
     ]
    }
   ],
   "source": [
    "ensemble = joblib.load('../../Modelli/DatasetReduced/ensemble.pkl')\n",
    "print(\"Ensemble model:\")\n",
    "print(\"Iperparametri: \", ensemble.named_steps['classifier'])\n",
    "print(\"Training accuracy: \", ensemble.score(x_train, y_train))\n",
    "print(\"Test accuracy: \", ensemble.score(x_test, y_test))\n",
    "print(classification_report(y_test, ensemble.predict(x_test)))"
   ]
  },
  {
   "cell_type": "code",
   "execution_count": null,
   "metadata": {},
   "outputs": [],
   "source": [
    "weightSum = sum([model.best_score_ for model in [svc, randomForest, HistgradientBoosting, GradientBoosting]])\n",
    "weightSum += naiveBayes.score(x_train, y_train)\n",
    "\n",
    "weights = [model.best_score_ / weightSum for model in [svc, randomForest, HistgradientBoosting, GradientBoosting]]\n",
    "weights.append(naiveBayes.score(x_train, y_train) / weightSum)\n",
    "\n",
    "ensembleModelWeighted = VotingClassifier(estimators=[('svc', newSvc), ('randomForest', newRandomForest), ('HistgradientBoosting', newHistGradientBoosting), ('gradientBoosting', newGradientBoosting), ('naiveBayes', newNaiveBayes)],voting='soft', weights=weights, n_jobs=-1)\n",
    "ensembleWeighted = Pipeline(steps=[('scaler', MinMaxScaler()), ('classifier', ensembleModelWeighted)])\n",
    "ensembleWeighted.fit(x_train, y_train)"
   ]
  },
  {
   "cell_type": "code",
   "execution_count": 10,
   "metadata": {},
   "outputs": [
    {
     "name": "stdout",
     "output_type": "stream",
     "text": [
      "Ensemble weighted model:\n",
      "Iperparametri:  VotingClassifier(estimators=[('svc',\n",
      "                              SVC(C=128, gamma=0.0078125, probability=True)),\n",
      "                             ('randomForest',\n",
      "                              RandomForestClassifier(max_depth=12,\n",
      "                                                     n_estimators=225)),\n",
      "                             ('HistgradientBoosting',\n",
      "                              HistGradientBoostingClassifier(max_depth=9)),\n",
      "                             ('gradientBoosting',\n",
      "                              GradientBoostingClassifier(n_estimators=200)),\n",
      "                             ('naiveBayes', GaussianNB())],\n",
      "                 n_jobs=-1, voting='soft',\n",
      "                 weights=[0.2026275115919629, 0.20139103554868626,\n",
      "                          0.2026275115919629, 0.20200927357032458,\n",
      "                          0.1913446676970634])\n",
      "Training accuracy:  1.0\n",
      "Test accuracy:  0.9482758620689655\n",
      "              precision    recall  f1-score   support\n",
      "\n",
      "           0       0.96      0.96      0.96       287\n",
      "           1       0.93      0.93      0.93       177\n",
      "\n",
      "    accuracy                           0.95       464\n",
      "   macro avg       0.95      0.95      0.95       464\n",
      "weighted avg       0.95      0.95      0.95       464\n",
      "\n"
     ]
    }
   ],
   "source": [
    "ensembleWeighted = joblib.load('../../Modelli/Dataset-136411/ensembleWeighted.pkl')\n",
    "\n",
    "print(\"Ensemble weighted model:\")\n",
    "print(\"Iperparametri: \", ensembleWeighted.named_steps['classifier'])\n",
    "print(\"Training accuracy: \", ensembleWeighted.score(x_train, y_train))\n",
    "print(\"Test accuracy: \", ensembleWeighted.score(x_test, y_test))\n",
    "print(classification_report(y_test, ensembleWeighted.predict(x_test)))"
   ]
  },
  {
   "cell_type": "code",
   "execution_count": 11,
   "metadata": {},
   "outputs": [],
   "source": [
    "def applyEnsemble(x, models):\n",
    "    Y_pred_proba_ensemble = [0 for i in range(len(x))]\n",
    "    count = 0\n",
    "    for i in range(len(models)):\n",
    "        gs=models[i]\n",
    "        count+=1\n",
    "        Y_pred_proba = gs.predict_proba(x)\n",
    "        Y_pred_proba_ensemble = [Y_pred_proba_ensemble[k] + Y_pred_proba[k, 1] for k in range(len(x))]\n",
    "    Y_pred_proba_ensemble = np.array(Y_pred_proba_ensemble)\n",
    "    Y_pred_proba_ensemble = Y_pred_proba_ensemble / count\n",
    "    Y_pred_ensemble = (Y_pred_proba_ensemble > 0.5)*1\n",
    "    return Y_pred_ensemble"
   ]
  },
  {
   "cell_type": "code",
   "execution_count": 12,
   "metadata": {},
   "outputs": [],
   "source": [
    "models = [svc, randomForest, HistgradientBoosting, GradientBoosting, naiveBayes]\n",
    "trainResult = applyEnsemble(x_train, models)\n",
    "testResult = applyEnsemble(x_test, models)"
   ]
  },
  {
   "cell_type": "code",
   "execution_count": null,
   "metadata": {},
   "outputs": [],
   "source": [
    "print(\"Manual ensemble model:\")\n",
    "print(\"Models: svc, randomForest, HistgradientBoosting, gradientBoosting, naiveBayes\")\n",
    "print(\"Training accuracy: \", sum(trainResult == y_train) / len(y_train))\n",
    "print(\"Test accuracy: \", sum(testResult == y_test) / len(y_test))\n",
    "print(classification_report(y_test, testResult))"
   ]
  },
  {
   "cell_type": "code",
   "execution_count": 7,
   "metadata": {},
   "outputs": [
    {
     "data": {
      "text/plain": [
       "['../../Modelli/DatasetReduced/ensembleSoft.pkl']"
      ]
     },
     "execution_count": 7,
     "metadata": {},
     "output_type": "execute_result"
    }
   ],
   "source": [
    "ensembleSoft = VotingClassifier(estimators=[('svc', newSvc), ('randomForest', newRandomForest), ('HistGradientBoosting', newHistGradientBoosting), ('gradientBoosting', newGradientBoosting), ('naiveBayes', newNaiveBayes)], voting='soft')\n",
    "ensemble = Pipeline(steps=[('scaler', MinMaxScaler()), ('classifier', ensembleSoft)])\n",
    "ensemble.fit(x_train, y_train)\n",
    "joblib.dump(ensemble, '../../Modelli/DatasetReduced/ensembleSoft.pkl')"
   ]
  },
  {
   "cell_type": "code",
   "execution_count": 8,
   "metadata": {},
   "outputs": [
    {
     "name": "stdout",
     "output_type": "stream",
     "text": [
      "Ensemble soft model:\n",
      "Iperparametri:  VotingClassifier(estimators=[('svc',\n",
      "                              SVC(C=128, gamma=0.0078125, probability=True)),\n",
      "                             ('randomForest',\n",
      "                              RandomForestClassifier(max_depth=12,\n",
      "                                                     n_estimators=225)),\n",
      "                             ('HistGradientBoosting',\n",
      "                              HistGradientBoostingClassifier(max_depth=9)),\n",
      "                             ('gradientBoosting',\n",
      "                              GradientBoostingClassifier(n_estimators=200)),\n",
      "                             ('naiveBayes', GaussianNB())],\n",
      "                 voting='soft')\n",
      "Training accuracy:  1.0\n",
      "Test accuracy:  0.9461206896551724\n",
      "              precision    recall  f1-score   support\n",
      "\n",
      "           0       0.95      0.96      0.96       287\n",
      "           1       0.93      0.93      0.93       177\n",
      "\n",
      "    accuracy                           0.95       464\n",
      "   macro avg       0.94      0.94      0.94       464\n",
      "weighted avg       0.95      0.95      0.95       464\n",
      "\n"
     ]
    }
   ],
   "source": [
    "ensembleSoft = joblib.load('../../Modelli/DatasetReduced/ensembleSoft.pkl')\n",
    "\n",
    "print(\"Ensemble soft model:\")\n",
    "print(\"Iperparametri: \", ensembleSoft.named_steps['classifier'])\n",
    "print(\"Training accuracy: \", ensembleSoft.score(x_train, y_train))\n",
    "print(\"Test accuracy: \", ensembleSoft.score(x_test, y_test))\n",
    "print(classification_report(y_test, ensembleSoft.predict(x_test)))"
   ]
  },
  {
   "cell_type": "code",
   "execution_count": 4,
   "metadata": {},
   "outputs": [],
   "source": [
    "ensemble = joblib.load('../../Modelli/DatasetReduced/ensemble.pkl')\n",
    "ensembleSoft = joblib.load('../../Modelli/DatasetReduced/ensembleSoft.pkl')\n",
    "ensembleWeighted = joblib.load('../../Modelli/DatasetReduced/ensembleWeighted.pkl')"
   ]
  },
  {
   "cell_type": "code",
   "execution_count": 5,
   "metadata": {},
   "outputs": [
    {
     "data": {
      "image/png": "[encoded data removed]",
      "text/plain": [
       "<Figure size 640x480 with 1 Axes>"
      ]
     },
     "metadata": {},
     "output_type": "display_data"
    }
   ],
   "source": [
    "ax = plt.gca()\n",
    "ax.set_title('Curva ROC DatasetReduced')\n",
    "\n",
    "ensembleSoft_disp = RocCurveDisplay.from_estimator(ensembleSoft, x_test, y_test, name=\"Ensemble Soft\", ax=ax)\n",
    "ensembleWeighted_disp = RocCurveDisplay.from_estimator(ensembleWeighted, x_test, y_test, name=\"Ensemble Weighted\", ax=ax)"
   ]
  },
  {
   "cell_type": "markdown",
   "metadata": {},
   "source": [
    "<h1> DatasetFull </h1>\n",
    "\n",
    "| Modello                     | Iperparametri                                                                                                               | Training Accuracy | Test Accuracy | Precision | Recall | F1-score | Support |\n",
    "|-----------------------------|-----------------------------------------------------------------------------------------------------------------------------|-------------------|---------------|-----------|--------|----------|---------|\n",
    "| SVC                         | {'classifier__C': 128, 'classifier__gamma': 0.0078125, 'classifier__kernel': 'rbf'}                                      | 0.9448            | 0.95          | 0.95      | 0.95   | 0.95     | 520     |\n",
    "| Random Forest               | {'classifier__max_depth': 9, 'classifier__n_estimators': 200}                                                             | 0.9347            | 0.9423        | 0.94      | 0.94   | 0.94     | 520     |\n",
    "| Elastic Net                 | {'classifier__C': 0.5, 'classifier__l1_ratio': 1, 'classifier__penalty': 'elasticnet', 'classifier__solver': 'saga'} | 0.7062            | 0.6865        | 0.68      | 0.69   | 0.68     | 520     |\n",
    "| KNN                         | {'classifier__n_neighbors': 3, 'classifier__weights': 'uniform'}                                                          | 0.8920            | 0.8827        | 0.88      | 0.88   | 0.88     | 520     |\n",
    "| Hist Gradient Boosting      | {'classifier__learning_rate': 0.1, 'classifier__max_depth': 9, 'classifier__max_iter': 200}                               | 0.9491            | 0.9538        | 0.95      | 0.95   | 0.95     | 520     |\n",
    "| Gradient Boosting           | Pipeline(steps=[('Scaling', MinMaxScaler()), ('classifier', GradientBoostingClassifier(max_depth=5, n_estimators=150))])  | 1.0               | 0.9442        | 0.94      | 0.95   | 0.94     | 520     |\n",
    "| Naive Bayes                 | Pipeline(steps=[('Scaling', MinMaxScaler()), ('classifier', GaussianNB())])                                               | 0.9153            | 0.9404        | 0.94      | 0.94   | 0.94     | 520     |\n",
    "| Ensemble model              | VotingClassifier(estimators=[('svc', SVC(C=128, gamma=0.0078125, probability=True)), ...                                  | 1.0               | 0.95          | 0.95      | 0.95   | 0.95     | 520     |\n",
    "| Ensemble weighted model     | VotingClassifier(estimators=[('svc', SVC(C=128, gamma=0.0078125, probability=True)), ...                                  | 1.0               | 0.9462        | 0.95      | 0.95   | 0.95     | 520     |\n",
    "| Manual ensemble model       | Models: svc, randomForest, knn, HistgradientBoosting, gradientBoosting, naiveBayes                                         | 1.0               | 0.95          | 0.95      | 0.95   | 0.95     | 520     |\n"
   ]
  },
  {
   "cell_type": "markdown",
   "metadata": {},
   "source": [
    "<h1> DatasetZeroes </h1>\n",
    "\n",
    "| Modello                     | Iperparametri                                                                                                                               | Training Accuracy | Test Accuracy | Precision | Recall | F1-score | Support |\n",
    "|-----------------------------|---------------------------------------------------------------------------------------------------------------------------------------------|-------------------|---------------|-----------|--------|----------|---------|\n",
    "| SVC                         | {'classifier__C': 8, 'classifier__gamma': 0.0078125, 'classifier__kernel': 'rbf', 'classifier__probability': True}                        | 0.9278            | 0.9462        | 0.95      | 0.95   | 0.95     | 520     |\n",
    "| Random Forest               | {'classifier__max_depth': 12, 'classifier__n_estimators': 225}                                                                           | 0.9353            | 0.9365        | 0.94      | 0.94   | 0.94     | 520     |\n",
    "| Elastic Net                 | {'classifier__C': 0.5, 'classifier__l1_ratio': 1, 'classifier__penalty': 'elasticnet', 'classifier__solver': 'saga'}                   | 0.6296            | 0.6404        | 0.67      | 0.63   | 0.61     | 520     |\n",
    "| KNN                         | {'classifier__n_neighbors': 3, 'classifier__weights': 'uniform'}                                                                          | 0.6692            | 0.6769        | 0.73      | 0.69   | 0.67     | 520     |\n",
    "| Hist Gradient Boosting      | {'classifier__learning_rate': 0.1, 'classifier__max_depth': 5, 'classifier__max_iter': 200}                                             | 0.9510            | 0.9558        | 0.96      | 0.96   | 0.96     | 520     |\n",
    "| Gradient Boosting           | {'classifier__learning_rate': 0.1, 'classifier__loss': 'log_loss', 'classifier__max_depth': 5, 'classifier__n_estimators': 150}       | 0.9485            | 0.95          | 0.95      | 0.95   | 0.95     | 520     |\n",
    "| Naive Bayes                 | Pipeline(steps=[('Scaling', MinMaxScaler()), ('classifier', GaussianNB())])                                                             | 0.9184            | 0.9404        | 0.94      | 0.94   | 0.94     | 520     |\n",
    "| Ensemble model              | VotingClassifier(estimators=[('svc', SVC(C=8, gamma=0.0078125, probability=True)), ...                                                     | 0.9711            | 0.9462        | 0.95      | 0.95   | 0.95     | 520     |\n",
    "| Ensemble weighted model     | VotingClassifier(estimators=[('svc', SVC(C=8, gamma=0.0078125, probability=True)), ...                                                     | 0.9912            | 0.9481        | 0.95      | 0.95   | 0.95     | 520     |\n",
    "| Manual ensemble model       | Models: svc, randomForest, HistgradientBoosting, gradientBoosting, naiveBayes                                                            | 0.9887            | 0.9481        | 0.95      | 0.95   | 0.95     | 520     |\n"
   ]
  },
  {
   "cell_type": "markdown",
   "metadata": {},
   "source": [
    "<h1> DatasetReduced </h1>\n",
    "\n",
    "| Modello                     | Iperparametri                                                                                                                    | Training Accuracy | Test Accuracy | Precision | Recall | F1-score | Support |\n",
    "|-----------------------------|----------------------------------------------------------------------------------------------------------------------------------|-------------------|---------------|-----------|--------|----------|---------|\n",
    "| SVC                         | {'classifier__C': 128, 'classifier__gamma': 0.0078125, 'classifier__kernel': 'rbf', 'classifier__probability': True}          | 0.9784            | 0.9526        | 0.95      | 0.95   | 0.95     | 464     |\n",
    "| Random Forest               | {'classifier__max_depth': 12, 'classifier__n_estimators': 225}                                                                  | 0.9724            | 0.9353        | 0.94      | 0.94   | 0.94     | 464     |\n",
    "| Elastic Net                 | {'classifier__C': 0.5, 'classifier__l1_ratio': 1, 'classifier__penalty': 'elasticnet', 'classifier__solver': 'saga'}        | 0.7284            | 0.7672        | 0.76      | 0.73   | 0.74     | 464     |\n",
    "| KNN                         | {'classifier__n_neighbors': 3, 'classifier__weights': 'uniform'}                                                                 | 0.7970            | 0.7522        | 0.76      | 0.70   | 0.71     | 464     |\n",
    "| Hist Gradient Boosting      | {'classifier__learning_rate': 0.1, 'classifier__max_depth': 9, 'classifier__max_iter': 100}                                    | 0.9784            | 0.9504        | 0.94      | 0.95   | 0.95     | 464     |\n",
    "| Gradient Boosting           | {'classifier__learning_rate': 0.1, 'classifier__loss': 'log_loss', 'classifier__max_depth': 3, 'classifier__n_estimators': 200} | 0.9754            | 0.9418        | 0.94      | 0.94   | 0.94     | 464     |\n",
    "| Naive Bayes                 | Pipeline(steps=[('Scaling', MinMaxScaler()), ('classifier', GaussianNB())])                                                    | 0.9239            | 0.9052        | 0.93      | 0.88   | 0.89     | 464     |\n",
    "| Ensemble model              | VotingClassifier(estimators=[('svc', SVC(C=128, gamma=0.0078125, probability=True)), ...                                          | 1.0               | 0.9461        | 0.95      | 0.94   | 0.94     | 464     |\n",
    "| Ensemble weighted model     | VotingClassifier(estimators=[('svc', SVC(C=128, gamma=0.0078125, probability=True)), ...                                          | 1.0               | 0.9483        | 0.95      | 0.95   | 0.95     | 464     |\n",
    "| Manual ensemble model       | Models: svc, randomForest, HistgradientBoosting, gradientBoosting, naiveBayes                                                   | 1.0               | 0.9461        | 0.94      | 0.94   | 0.94     | 464     |\n"
   ]
  },
  {
   "cell_type": "markdown",
   "metadata": {},
   "source": [
    "<h1>Creazione modello ensemble ridotto</h1>"
   ]
  },
  {
   "cell_type": "code",
   "execution_count": 4,
   "metadata": {},
   "outputs": [],
   "source": [
    "ensembleSoft = joblib.load('../../Modelli/DatasetReduced/ensembleSoft.pkl')\n",
    "rfe = joblib.load('../../ShapValues/DatasetReduced/ensembleSoft_featureSelection.pkl')"
   ]
  },
  {
   "cell_type": "code",
   "execution_count": 7,
   "metadata": {},
   "outputs": [
    {
     "name": "stdout",
     "output_type": "stream",
     "text": [
      "Ensemble model:\n",
      "Iperparametri:  VotingClassifier(estimators=[('svc',\n",
      "                              SVC(C=128, gamma=0.0078125, probability=True)),\n",
      "                             ('randomForest',\n",
      "                              RandomForestClassifier(max_depth=12,\n",
      "                                                     n_estimators=225)),\n",
      "                             ('HistGradientBoosting',\n",
      "                              HistGradientBoostingClassifier(max_depth=9)),\n",
      "                             ('gradientBoosting',\n",
      "                              GradientBoostingClassifier(n_estimators=200)),\n",
      "                             ('naiveBayes', GaussianNB())],\n",
      "                 voting='soft')\n",
      "Training accuracy:  1.0\n",
      "Test accuracy:  0.9461206896551724\n",
      "              precision    recall  f1-score   support\n",
      "\n",
      "           0       0.95      0.96      0.96       287\n",
      "           1       0.93      0.93      0.93       177\n",
      "\n",
      "    accuracy                           0.95       464\n",
      "   macro avg       0.94      0.94      0.94       464\n",
      "weighted avg       0.95      0.95      0.95       464\n",
      "\n"
     ]
    }
   ],
   "source": [
    "print(\"Ensemble model:\")\n",
    "print(\"Iperparametri: \", ensembleSoft.named_steps['classifier'])\n",
    "print(\"Training accuracy: \", ensembleSoft.score(x_train, y_train))\n",
    "print(\"Test accuracy: \", ensembleSoft.score(x_test, y_test))\n",
    "print(classification_report(y_test, ensembleSoft.predict(x_test)))"
   ]
  },
  {
   "cell_type": "code",
   "execution_count": 5,
   "metadata": {},
   "outputs": [
    {
     "name": "stdout",
     "output_type": "stream",
     "text": [
      "1889\n"
     ]
    }
   ],
   "source": [
    "keys_with_value = [key for key, value in rfe.items() if value > 0.98]\n",
    "sorted_keys = sorted(keys_with_value, key=lambda x: len(x), reverse=False)\n",
    "feature = sorted_keys[0]\n",
    "print(len(feature))\n",
    "\n",
    "x_train = x_train.filter(items=feature)\n",
    "x_test = x_test.filter(items=feature)"
   ]
  },
  {
   "cell_type": "code",
   "execution_count": 9,
   "metadata": {},
   "outputs": [
    {
     "data": {
      "text/html": [
       "<style>#sk-container-id-1 {color: black;}#sk-container-id-1 pre{padding: 0;}#sk-container-id-1 div.sk-toggleable {background-color: white;}#sk-container-id-1 label.sk-toggleable__label {cursor: pointer;display: block;width: 100%;margin-bottom: 0;padding: 0.3em;box-sizing: border-box;text-align: center;}#sk-container-id-1 label.sk-toggleable__label-arrow:before {content: \"▸\";float: left;margin-right: 0.25em;color: #696969;}#sk-container-id-1 label.sk-toggleable__label-arrow:hover:before {color: black;}#sk-container-id-1 div.sk-estimator:hover label.sk-toggleable__label-arrow:before {color: black;}#sk-container-id-1 div.sk-toggleable__content {max-height: 0;max-width: 0;overflow: hidden;text-align: left;background-color: #f0f8ff;}#sk-container-id-1 div.sk-toggleable__content pre {margin: 0.2em;color: black;border-radius: 0.25em;background-color: #f0f8ff;}#sk-container-id-1 input.sk-toggleable__control:checked~div.sk-toggleable__content {max-height: 200px;max-width: 100%;overflow: auto;}#sk-container-id-1 input.sk-toggleable__control:checked~label.sk-toggleable__label-arrow:before {content: \"▾\";}#sk-container-id-1 div.sk-estimator input.sk-toggleable__control:checked~label.sk-toggleable__label {background-color: #d4ebff;}#sk-container-id-1 div.sk-label input.sk-toggleable__control:checked~label.sk-toggleable__label {background-color: #d4ebff;}#sk-container-id-1 input.sk-hidden--visually {border: 0;clip: rect(1px 1px 1px 1px);clip: rect(1px, 1px, 1px, 1px);height: 1px;margin: -1px;overflow: hidden;padding: 0;position: absolute;width: 1px;}#sk-container-id-1 div.sk-estimator {font-family: monospace;background-color: #f0f8ff;border: 1px dotted black;border-radius: 0.25em;box-sizing: border-box;margin-bottom: 0.5em;}#sk-container-id-1 div.sk-estimator:hover {background-color: #d4ebff;}#sk-container-id-1 div.sk-parallel-item::after {content: \"\";width: 100%;border-bottom: 1px solid gray;flex-grow: 1;}#sk-container-id-1 div.sk-label:hover label.sk-toggleable__label {background-color: #d4ebff;}#sk-container-id-1 div.sk-serial::before {content: \"\";position: absolute;border-left: 1px solid gray;box-sizing: border-box;top: 0;bottom: 0;left: 50%;z-index: 0;}#sk-container-id-1 div.sk-serial {display: flex;flex-direction: column;align-items: center;background-color: white;padding-right: 0.2em;padding-left: 0.2em;position: relative;}#sk-container-id-1 div.sk-item {position: relative;z-index: 1;}#sk-container-id-1 div.sk-parallel {display: flex;align-items: stretch;justify-content: center;background-color: white;position: relative;}#sk-container-id-1 div.sk-item::before, #sk-container-id-1 div.sk-parallel-item::before {content: \"\";position: absolute;border-left: 1px solid gray;box-sizing: border-box;top: 0;bottom: 0;left: 50%;z-index: -1;}#sk-container-id-1 div.sk-parallel-item {display: flex;flex-direction: column;z-index: 1;position: relative;background-color: white;}#sk-container-id-1 div.sk-parallel-item:first-child::after {align-self: flex-end;width: 50%;}#sk-container-id-1 div.sk-parallel-item:last-child::after {align-self: flex-start;width: 50%;}#sk-container-id-1 div.sk-parallel-item:only-child::after {width: 0;}#sk-container-id-1 div.sk-dashed-wrapped {border: 1px dashed gray;margin: 0 0.4em 0.5em 0.4em;box-sizing: border-box;padding-bottom: 0.4em;background-color: white;}#sk-container-id-1 div.sk-label label {font-family: monospace;font-weight: bold;display: inline-block;line-height: 1.2em;}#sk-container-id-1 div.sk-label-container {text-align: center;}#sk-container-id-1 div.sk-container {/* jupyter's `normalize.less` sets `[hidden] { display: none; }` but bootstrap.min.css set `[hidden] { display: none !important; }` so we also need the `!important` here to be able to override the default hidden behavior on the sphinx rendered scikit-learn.org. See: https://github.com/scikit-learn/scikit-learn/issues/21755 */display: inline-block !important;position: relative;}#sk-container-id-1 div.sk-text-repr-fallback {display: none;}</style><div id=\"sk-container-id-1\" class=\"sk-top-container\"><div class=\"sk-text-repr-fallback\"><pre>Pipeline(steps=[(&#x27;scaler&#x27;, MinMaxScaler()),\n",
       "                (&#x27;classifier&#x27;,\n",
       "                 VotingClassifier(estimators=[(&#x27;svc&#x27;,\n",
       "                                               SVC(C=128, gamma=0.0078125,\n",
       "                                                   probability=True)),\n",
       "                                              (&#x27;randomForest&#x27;,\n",
       "                                               RandomForestClassifier(max_depth=12,\n",
       "                                                                      n_estimators=225)),\n",
       "                                              (&#x27;HistGradientBoosting&#x27;,\n",
       "                                               HistGradientBoostingClassifier(max_depth=9)),\n",
       "                                              (&#x27;gradientBoosting&#x27;,\n",
       "                                               GradientBoostingClassifier(n_estimators=200)),\n",
       "                                              (&#x27;naiveBayes&#x27;, GaussianNB())],\n",
       "                                  voting=&#x27;soft&#x27;))])</pre><b>In a Jupyter environment, please rerun this cell to show the HTML representation or trust the notebook. <br />On GitHub, the HTML representation is unable to render, please try loading this page with nbviewer.org.</b></div><div class=\"sk-container\" hidden><div class=\"sk-item sk-dashed-wrapped\"><div class=\"sk-label-container\"><div class=\"sk-label sk-toggleable\"><input class=\"sk-toggleable__control sk-hidden--visually\" id=\"sk-estimator-id-1\" type=\"checkbox\" ><label for=\"sk-estimator-id-1\" class=\"sk-toggleable__label sk-toggleable__label-arrow\">Pipeline</label><div class=\"sk-toggleable__content\"><pre>Pipeline(steps=[(&#x27;scaler&#x27;, MinMaxScaler()),\n",
       "                (&#x27;classifier&#x27;,\n",
       "                 VotingClassifier(estimators=[(&#x27;svc&#x27;,\n",
       "                                               SVC(C=128, gamma=0.0078125,\n",
       "                                                   probability=True)),\n",
       "                                              (&#x27;randomForest&#x27;,\n",
       "                                               RandomForestClassifier(max_depth=12,\n",
       "                                                                      n_estimators=225)),\n",
       "                                              (&#x27;HistGradientBoosting&#x27;,\n",
       "                                               HistGradientBoostingClassifier(max_depth=9)),\n",
       "                                              (&#x27;gradientBoosting&#x27;,\n",
       "                                               GradientBoostingClassifier(n_estimators=200)),\n",
       "                                              (&#x27;naiveBayes&#x27;, GaussianNB())],\n",
       "                                  voting=&#x27;soft&#x27;))])</pre></div></div></div><div class=\"sk-serial\"><div class=\"sk-item\"><div class=\"sk-estimator sk-toggleable\"><input class=\"sk-toggleable__control sk-hidden--visually\" id=\"sk-estimator-id-2\" type=\"checkbox\" ><label for=\"sk-estimator-id-2\" class=\"sk-toggleable__label sk-toggleable__label-arrow\">MinMaxScaler</label><div class=\"sk-toggleable__content\"><pre>MinMaxScaler()</pre></div></div></div><div class=\"sk-item sk-dashed-wrapped\"><div class=\"sk-label-container\"><div class=\"sk-label sk-toggleable\"><input class=\"sk-toggleable__control sk-hidden--visually\" id=\"sk-estimator-id-3\" type=\"checkbox\" ><label for=\"sk-estimator-id-3\" class=\"sk-toggleable__label sk-toggleable__label-arrow\">classifier: VotingClassifier</label><div class=\"sk-toggleable__content\"><pre>VotingClassifier(estimators=[(&#x27;svc&#x27;,\n",
       "                              SVC(C=128, gamma=0.0078125, probability=True)),\n",
       "                             (&#x27;randomForest&#x27;,\n",
       "                              RandomForestClassifier(max_depth=12,\n",
       "                                                     n_estimators=225)),\n",
       "                             (&#x27;HistGradientBoosting&#x27;,\n",
       "                              HistGradientBoostingClassifier(max_depth=9)),\n",
       "                             (&#x27;gradientBoosting&#x27;,\n",
       "                              GradientBoostingClassifier(n_estimators=200)),\n",
       "                             (&#x27;naiveBayes&#x27;, GaussianNB())],\n",
       "                 voting=&#x27;soft&#x27;)</pre></div></div></div><div class=\"sk-parallel\"><div class=\"sk-parallel-item\"><div class=\"sk-item\"><div class=\"sk-label-container\"><div class=\"sk-label sk-toggleable\"><label>svc</label></div></div><div class=\"sk-serial\"><div class=\"sk-item\"><div class=\"sk-estimator sk-toggleable\"><input class=\"sk-toggleable__control sk-hidden--visually\" id=\"sk-estimator-id-4\" type=\"checkbox\" ><label for=\"sk-estimator-id-4\" class=\"sk-toggleable__label sk-toggleable__label-arrow\">SVC</label><div class=\"sk-toggleable__content\"><pre>SVC(C=128, gamma=0.0078125, probability=True)</pre></div></div></div></div></div></div><div class=\"sk-parallel-item\"><div class=\"sk-item\"><div class=\"sk-label-container\"><div class=\"sk-label sk-toggleable\"><label>randomForest</label></div></div><div class=\"sk-serial\"><div class=\"sk-item\"><div class=\"sk-estimator sk-toggleable\"><input class=\"sk-toggleable__control sk-hidden--visually\" id=\"sk-estimator-id-5\" type=\"checkbox\" ><label for=\"sk-estimator-id-5\" class=\"sk-toggleable__label sk-toggleable__label-arrow\">RandomForestClassifier</label><div class=\"sk-toggleable__content\"><pre>RandomForestClassifier(max_depth=12, n_estimators=225)</pre></div></div></div></div></div></div><div class=\"sk-parallel-item\"><div class=\"sk-item\"><div class=\"sk-label-container\"><div class=\"sk-label sk-toggleable\"><label>HistGradientBoosting</label></div></div><div class=\"sk-serial\"><div class=\"sk-item\"><div class=\"sk-estimator sk-toggleable\"><input class=\"sk-toggleable__control sk-hidden--visually\" id=\"sk-estimator-id-6\" type=\"checkbox\" ><label for=\"sk-estimator-id-6\" class=\"sk-toggleable__label sk-toggleable__label-arrow\">HistGradientBoostingClassifier</label><div class=\"sk-toggleable__content\"><pre>HistGradientBoostingClassifier(max_depth=9)</pre></div></div></div></div></div></div><div class=\"sk-parallel-item\"><div class=\"sk-item\"><div class=\"sk-label-container\"><div class=\"sk-label sk-toggleable\"><label>gradientBoosting</label></div></div><div class=\"sk-serial\"><div class=\"sk-item\"><div class=\"sk-estimator sk-toggleable\"><input class=\"sk-toggleable__control sk-hidden--visually\" id=\"sk-estimator-id-7\" type=\"checkbox\" ><label for=\"sk-estimator-id-7\" class=\"sk-toggleable__label sk-toggleable__label-arrow\">GradientBoostingClassifier</label><div class=\"sk-toggleable__content\"><pre>GradientBoostingClassifier(n_estimators=200)</pre></div></div></div></div></div></div><div class=\"sk-parallel-item\"><div class=\"sk-item\"><div class=\"sk-label-container\"><div class=\"sk-label sk-toggleable\"><label>naiveBayes</label></div></div><div class=\"sk-serial\"><div class=\"sk-item\"><div class=\"sk-estimator sk-toggleable\"><input class=\"sk-toggleable__control sk-hidden--visually\" id=\"sk-estimator-id-8\" type=\"checkbox\" ><label for=\"sk-estimator-id-8\" class=\"sk-toggleable__label sk-toggleable__label-arrow\">GaussianNB</label><div class=\"sk-toggleable__content\"><pre>GaussianNB()</pre></div></div></div></div></div></div></div></div></div></div></div></div>"
      ],
      "text/plain": [
       "Pipeline(steps=[('scaler', MinMaxScaler()),\n",
       "                ('classifier',\n",
       "                 VotingClassifier(estimators=[('svc',\n",
       "                                               SVC(C=128, gamma=0.0078125,\n",
       "                                                   probability=True)),\n",
       "                                              ('randomForest',\n",
       "                                               RandomForestClassifier(max_depth=12,\n",
       "                                                                      n_estimators=225)),\n",
       "                                              ('HistGradientBoosting',\n",
       "                                               HistGradientBoostingClassifier(max_depth=9)),\n",
       "                                              ('gradientBoosting',\n",
       "                                               GradientBoostingClassifier(n_estimators=200)),\n",
       "                                              ('naiveBayes', GaussianNB())],\n",
       "                                  voting='soft'))])"
      ]
     },
     "execution_count": 9,
     "metadata": {},
     "output_type": "execute_result"
    }
   ],
   "source": [
    "ensembleSoft.fit(x_train.filter(items=feature), y_train)"
   ]
  },
  {
   "cell_type": "code",
   "execution_count": 16,
   "metadata": {},
   "outputs": [
    {
     "data": {
      "text/plain": [
       "['../../Modelli/DatasetReduced/ensembleSelected.pkl']"
      ]
     },
     "execution_count": 16,
     "metadata": {},
     "output_type": "execute_result"
    }
   ],
   "source": [
    "joblib.dump(ensembleSoft, '../../Modelli/DatasetReduced/ensembleSelected.pkl')"
   ]
  },
  {
   "cell_type": "code",
   "execution_count": 7,
   "metadata": {},
   "outputs": [
    {
     "data": {
      "text/html": [
       "<div>\n",
       "<style scoped>\n",
       "    .dataframe tbody tr th:only-of-type {\n",
       "        vertical-align: middle;\n",
       "    }\n",
       "\n",
       "    .dataframe tbody tr th {\n",
       "        vertical-align: top;\n",
       "    }\n",
       "\n",
       "    .dataframe thead th {\n",
       "        text-align: right;\n",
       "    }\n",
       "</style>\n",
       "<table border=\"1\" class=\"dataframe\">\n",
       "  <thead>\n",
       "    <tr style=\"text-align: right;\">\n",
       "      <th></th>\n",
       "      <th>DDX3Y</th>\n",
       "      <th>USP9Y</th>\n",
       "      <th>GIT2</th>\n",
       "      <th>PABPC1</th>\n",
       "      <th>RPS4Y1</th>\n",
       "      <th>C4BPA</th>\n",
       "      <th>HLA-DRB5</th>\n",
       "      <th>HLA-DRB1</th>\n",
       "      <th>UBR4</th>\n",
       "      <th>CRIPTO</th>\n",
       "      <th>...</th>\n",
       "      <th>ECI2</th>\n",
       "      <th>GNA15</th>\n",
       "      <th>TOMM40</th>\n",
       "      <th>RASSF4</th>\n",
       "      <th>MUTYH</th>\n",
       "      <th>MPC1</th>\n",
       "      <th>SLC2A3</th>\n",
       "      <th>EFHD1</th>\n",
       "      <th>ADISSP</th>\n",
       "      <th>FIP1L1</th>\n",
       "    </tr>\n",
       "  </thead>\n",
       "  <tbody>\n",
       "    <tr>\n",
       "      <th>527</th>\n",
       "      <td>3.478338</td>\n",
       "      <td>3.390917</td>\n",
       "      <td>7.339206</td>\n",
       "      <td>9.011070</td>\n",
       "      <td>5.654172</td>\n",
       "      <td>5.082899</td>\n",
       "      <td>10.393213</td>\n",
       "      <td>11.849403</td>\n",
       "      <td>7.310957</td>\n",
       "      <td>3.912018</td>\n",
       "      <td>...</td>\n",
       "      <td>7.466534</td>\n",
       "      <td>7.708360</td>\n",
       "      <td>7.344711</td>\n",
       "      <td>7.230549</td>\n",
       "      <td>7.202806</td>\n",
       "      <td>8.614218</td>\n",
       "      <td>9.446660</td>\n",
       "      <td>5.750145</td>\n",
       "      <td>7.187047</td>\n",
       "      <td>7.286072</td>\n",
       "    </tr>\n",
       "    <tr>\n",
       "      <th>1168</th>\n",
       "      <td>4.758538</td>\n",
       "      <td>4.210808</td>\n",
       "      <td>7.366016</td>\n",
       "      <td>8.984915</td>\n",
       "      <td>6.311182</td>\n",
       "      <td>4.665264</td>\n",
       "      <td>10.140729</td>\n",
       "      <td>11.732016</td>\n",
       "      <td>7.295366</td>\n",
       "      <td>3.660566</td>\n",
       "      <td>...</td>\n",
       "      <td>7.785417</td>\n",
       "      <td>7.769904</td>\n",
       "      <td>7.088814</td>\n",
       "      <td>7.165359</td>\n",
       "      <td>7.002063</td>\n",
       "      <td>8.532284</td>\n",
       "      <td>10.380801</td>\n",
       "      <td>5.272603</td>\n",
       "      <td>7.351485</td>\n",
       "      <td>7.280454</td>\n",
       "    </tr>\n",
       "    <tr>\n",
       "      <th>478</th>\n",
       "      <td>3.453247</td>\n",
       "      <td>3.494757</td>\n",
       "      <td>7.475489</td>\n",
       "      <td>9.012761</td>\n",
       "      <td>5.567539</td>\n",
       "      <td>5.056319</td>\n",
       "      <td>10.504884</td>\n",
       "      <td>11.958646</td>\n",
       "      <td>7.327974</td>\n",
       "      <td>3.896792</td>\n",
       "      <td>...</td>\n",
       "      <td>7.521516</td>\n",
       "      <td>8.054786</td>\n",
       "      <td>7.293100</td>\n",
       "      <td>7.069177</td>\n",
       "      <td>6.920216</td>\n",
       "      <td>8.657137</td>\n",
       "      <td>10.067189</td>\n",
       "      <td>5.195759</td>\n",
       "      <td>7.232021</td>\n",
       "      <td>7.388326</td>\n",
       "    </tr>\n",
       "    <tr>\n",
       "      <th>488</th>\n",
       "      <td>7.362771</td>\n",
       "      <td>6.848075</td>\n",
       "      <td>7.529982</td>\n",
       "      <td>9.013460</td>\n",
       "      <td>9.831917</td>\n",
       "      <td>5.027814</td>\n",
       "      <td>10.475381</td>\n",
       "      <td>11.987391</td>\n",
       "      <td>7.358816</td>\n",
       "      <td>3.902383</td>\n",
       "      <td>...</td>\n",
       "      <td>7.472220</td>\n",
       "      <td>8.256245</td>\n",
       "      <td>7.002593</td>\n",
       "      <td>7.119234</td>\n",
       "      <td>6.954851</td>\n",
       "      <td>8.561730</td>\n",
       "      <td>10.485756</td>\n",
       "      <td>5.342661</td>\n",
       "      <td>7.042296</td>\n",
       "      <td>7.351733</td>\n",
       "    </tr>\n",
       "    <tr>\n",
       "      <th>357</th>\n",
       "      <td>7.603659</td>\n",
       "      <td>6.497730</td>\n",
       "      <td>7.310257</td>\n",
       "      <td>9.014779</td>\n",
       "      <td>9.702537</td>\n",
       "      <td>5.056426</td>\n",
       "      <td>10.495722</td>\n",
       "      <td>12.057744</td>\n",
       "      <td>7.305035</td>\n",
       "      <td>3.869412</td>\n",
       "      <td>...</td>\n",
       "      <td>7.534005</td>\n",
       "      <td>8.253200</td>\n",
       "      <td>7.188369</td>\n",
       "      <td>7.291418</td>\n",
       "      <td>6.932555</td>\n",
       "      <td>8.616483</td>\n",
       "      <td>10.190805</td>\n",
       "      <td>5.447726</td>\n",
       "      <td>7.271306</td>\n",
       "      <td>7.300636</td>\n",
       "    </tr>\n",
       "    <tr>\n",
       "      <th>...</th>\n",
       "      <td>...</td>\n",
       "      <td>...</td>\n",
       "      <td>...</td>\n",
       "      <td>...</td>\n",
       "      <td>...</td>\n",
       "      <td>...</td>\n",
       "      <td>...</td>\n",
       "      <td>...</td>\n",
       "      <td>...</td>\n",
       "      <td>...</td>\n",
       "      <td>...</td>\n",
       "      <td>...</td>\n",
       "      <td>...</td>\n",
       "      <td>...</td>\n",
       "      <td>...</td>\n",
       "      <td>...</td>\n",
       "      <td>...</td>\n",
       "      <td>...</td>\n",
       "      <td>...</td>\n",
       "      <td>...</td>\n",
       "      <td>...</td>\n",
       "    </tr>\n",
       "    <tr>\n",
       "      <th>1460</th>\n",
       "      <td>3.261257</td>\n",
       "      <td>3.290192</td>\n",
       "      <td>7.398748</td>\n",
       "      <td>9.006167</td>\n",
       "      <td>4.538526</td>\n",
       "      <td>5.067946</td>\n",
       "      <td>9.670636</td>\n",
       "      <td>12.745330</td>\n",
       "      <td>7.300379</td>\n",
       "      <td>3.848794</td>\n",
       "      <td>...</td>\n",
       "      <td>7.321299</td>\n",
       "      <td>7.839850</td>\n",
       "      <td>7.102872</td>\n",
       "      <td>7.308786</td>\n",
       "      <td>6.846652</td>\n",
       "      <td>8.615150</td>\n",
       "      <td>10.349901</td>\n",
       "      <td>5.617417</td>\n",
       "      <td>7.104331</td>\n",
       "      <td>7.305998</td>\n",
       "    </tr>\n",
       "    <tr>\n",
       "      <th>1504</th>\n",
       "      <td>6.305659</td>\n",
       "      <td>5.738595</td>\n",
       "      <td>7.394014</td>\n",
       "      <td>9.015496</td>\n",
       "      <td>9.776575</td>\n",
       "      <td>5.159841</td>\n",
       "      <td>11.673924</td>\n",
       "      <td>12.373037</td>\n",
       "      <td>7.294957</td>\n",
       "      <td>3.915602</td>\n",
       "      <td>...</td>\n",
       "      <td>7.280989</td>\n",
       "      <td>7.733443</td>\n",
       "      <td>7.183699</td>\n",
       "      <td>7.302378</td>\n",
       "      <td>6.860211</td>\n",
       "      <td>8.505852</td>\n",
       "      <td>10.028519</td>\n",
       "      <td>5.537685</td>\n",
       "      <td>7.287175</td>\n",
       "      <td>7.312072</td>\n",
       "    </tr>\n",
       "    <tr>\n",
       "      <th>1741</th>\n",
       "      <td>3.198318</td>\n",
       "      <td>3.277098</td>\n",
       "      <td>7.367695</td>\n",
       "      <td>9.006439</td>\n",
       "      <td>4.143022</td>\n",
       "      <td>5.297084</td>\n",
       "      <td>11.876386</td>\n",
       "      <td>11.386428</td>\n",
       "      <td>7.311575</td>\n",
       "      <td>3.904505</td>\n",
       "      <td>...</td>\n",
       "      <td>7.856104</td>\n",
       "      <td>8.328427</td>\n",
       "      <td>7.339577</td>\n",
       "      <td>7.099131</td>\n",
       "      <td>7.003521</td>\n",
       "      <td>8.709914</td>\n",
       "      <td>10.311024</td>\n",
       "      <td>5.692966</td>\n",
       "      <td>7.678992</td>\n",
       "      <td>7.301525</td>\n",
       "    </tr>\n",
       "    <tr>\n",
       "      <th>1143</th>\n",
       "      <td>4.748259</td>\n",
       "      <td>4.239544</td>\n",
       "      <td>7.378229</td>\n",
       "      <td>8.993706</td>\n",
       "      <td>6.313508</td>\n",
       "      <td>5.085154</td>\n",
       "      <td>10.245305</td>\n",
       "      <td>11.887320</td>\n",
       "      <td>7.271946</td>\n",
       "      <td>4.217898</td>\n",
       "      <td>...</td>\n",
       "      <td>7.327832</td>\n",
       "      <td>8.041089</td>\n",
       "      <td>7.141118</td>\n",
       "      <td>7.177610</td>\n",
       "      <td>6.837019</td>\n",
       "      <td>8.569635</td>\n",
       "      <td>10.949717</td>\n",
       "      <td>5.414652</td>\n",
       "      <td>7.064544</td>\n",
       "      <td>7.289999</td>\n",
       "    </tr>\n",
       "    <tr>\n",
       "      <th>1500</th>\n",
       "      <td>6.297456</td>\n",
       "      <td>5.570777</td>\n",
       "      <td>7.401215</td>\n",
       "      <td>9.013907</td>\n",
       "      <td>9.782488</td>\n",
       "      <td>5.164384</td>\n",
       "      <td>11.449349</td>\n",
       "      <td>11.913440</td>\n",
       "      <td>7.290945</td>\n",
       "      <td>3.866969</td>\n",
       "      <td>...</td>\n",
       "      <td>7.502415</td>\n",
       "      <td>8.252463</td>\n",
       "      <td>7.182933</td>\n",
       "      <td>7.452458</td>\n",
       "      <td>6.873494</td>\n",
       "      <td>8.610920</td>\n",
       "      <td>10.402570</td>\n",
       "      <td>5.384240</td>\n",
       "      <td>7.302905</td>\n",
       "      <td>7.307802</td>\n",
       "    </tr>\n",
       "  </tbody>\n",
       "</table>\n",
       "<p>1340 rows × 1889 columns</p>\n",
       "</div>"
      ],
      "text/plain": [
       "         DDX3Y     USP9Y      GIT2    PABPC1    RPS4Y1     C4BPA   HLA-DRB5  \\\n",
       "527   3.478338  3.390917  7.339206  9.011070  5.654172  5.082899  10.393213   \n",
       "1168  4.758538  4.210808  7.366016  8.984915  6.311182  4.665264  10.140729   \n",
       "478   3.453247  3.494757  7.475489  9.012761  5.567539  5.056319  10.504884   \n",
       "488   7.362771  6.848075  7.529982  9.013460  9.831917  5.027814  10.475381   \n",
       "357   7.603659  6.497730  7.310257  9.014779  9.702537  5.056426  10.495722   \n",
       "...        ...       ...       ...       ...       ...       ...        ...   \n",
       "1460  3.261257  3.290192  7.398748  9.006167  4.538526  5.067946   9.670636   \n",
       "1504  6.305659  5.738595  7.394014  9.015496  9.776575  5.159841  11.673924   \n",
       "1741  3.198318  3.277098  7.367695  9.006439  4.143022  5.297084  11.876386   \n",
       "1143  4.748259  4.239544  7.378229  8.993706  6.313508  5.085154  10.245305   \n",
       "1500  6.297456  5.570777  7.401215  9.013907  9.782488  5.164384  11.449349   \n",
       "\n",
       "       HLA-DRB1      UBR4    CRIPTO  ...      ECI2     GNA15    TOMM40  \\\n",
       "527   11.849403  7.310957  3.912018  ...  7.466534  7.708360  7.344711   \n",
       "1168  11.732016  7.295366  3.660566  ...  7.785417  7.769904  7.088814   \n",
       "478   11.958646  7.327974  3.896792  ...  7.521516  8.054786  7.293100   \n",
       "488   11.987391  7.358816  3.902383  ...  7.472220  8.256245  7.002593   \n",
       "357   12.057744  7.305035  3.869412  ...  7.534005  8.253200  7.188369   \n",
       "...         ...       ...       ...  ...       ...       ...       ...   \n",
       "1460  12.745330  7.300379  3.848794  ...  7.321299  7.839850  7.102872   \n",
       "1504  12.373037  7.294957  3.915602  ...  7.280989  7.733443  7.183699   \n",
       "1741  11.386428  7.311575  3.904505  ...  7.856104  8.328427  7.339577   \n",
       "1143  11.887320  7.271946  4.217898  ...  7.327832  8.041089  7.141118   \n",
       "1500  11.913440  7.290945  3.866969  ...  7.502415  8.252463  7.182933   \n",
       "\n",
       "        RASSF4     MUTYH      MPC1     SLC2A3     EFHD1    ADISSP    FIP1L1  \n",
       "527   7.230549  7.202806  8.614218   9.446660  5.750145  7.187047  7.286072  \n",
       "1168  7.165359  7.002063  8.532284  10.380801  5.272603  7.351485  7.280454  \n",
       "478   7.069177  6.920216  8.657137  10.067189  5.195759  7.232021  7.388326  \n",
       "488   7.119234  6.954851  8.561730  10.485756  5.342661  7.042296  7.351733  \n",
       "357   7.291418  6.932555  8.616483  10.190805  5.447726  7.271306  7.300636  \n",
       "...        ...       ...       ...        ...       ...       ...       ...  \n",
       "1460  7.308786  6.846652  8.615150  10.349901  5.617417  7.104331  7.305998  \n",
       "1504  7.302378  6.860211  8.505852  10.028519  5.537685  7.287175  7.312072  \n",
       "1741  7.099131  7.003521  8.709914  10.311024  5.692966  7.678992  7.301525  \n",
       "1143  7.177610  6.837019  8.569635  10.949717  5.414652  7.064544  7.289999  \n",
       "1500  7.452458  6.873494  8.610920  10.402570  5.384240  7.302905  7.307802  \n",
       "\n",
       "[1340 rows x 1889 columns]"
      ]
     },
     "execution_count": 7,
     "metadata": {},
     "output_type": "execute_result"
    }
   ],
   "source": [
    "ensembleSelected = joblib.load('../../Modelli/DatasetReduced/ensembleSelected.pkl')\n",
    "x_train[ensembleSelected.feature_names_in_]"
   ]
  },
  {
   "cell_type": "code",
   "execution_count": 8,
   "metadata": {},
   "outputs": [
    {
     "name": "stdout",
     "output_type": "stream",
     "text": [
      "Ensemble model reduced:\n",
      "Iperparametri:  VotingClassifier(estimators=[('svc',\n",
      "                              SVC(C=128, gamma=0.0078125, probability=True)),\n",
      "                             ('randomForest',\n",
      "                              RandomForestClassifier(max_depth=12,\n",
      "                                                     n_estimators=225)),\n",
      "                             ('HistGradientBoosting',\n",
      "                              HistGradientBoostingClassifier(max_depth=9)),\n",
      "                             ('gradientBoosting',\n",
      "                              GradientBoostingClassifier(n_estimators=200)),\n",
      "                             ('naiveBayes', GaussianNB())],\n",
      "                 voting='soft')\n",
      "Training accuracy:  1.0\n",
      "Test accuracy:  0.9482758620689655\n",
      "              precision    recall  f1-score   support\n",
      "\n",
      "           0       0.96      0.95      0.96       287\n",
      "           1       0.93      0.94      0.93       177\n",
      "\n",
      "    accuracy                           0.95       464\n",
      "   macro avg       0.94      0.95      0.95       464\n",
      "weighted avg       0.95      0.95      0.95       464\n",
      "\n"
     ]
    }
   ],
   "source": [
    "print(\"Ensemble model reduced:\")\n",
    "print(\"Iperparametri: \", ensembleSelected.named_steps['classifier'])\n",
    "print(\"Training accuracy: \", ensembleSelected.score(x_train, y_train))\n",
    "print(\"Test accuracy: \", ensembleSelected.score(x_test, y_test))\n",
    "print(classification_report(y_test, ensembleSelected.predict(x_test)))"
   ]
  },
  {
   "cell_type": "code",
   "execution_count": 11,
   "metadata": {},
   "outputs": [
    {
     "name": "stdout",
     "output_type": "stream",
     "text": [
      "373\n"
     ]
    }
   ],
   "source": [
    "keys_with_value = [key for key, value in rfe.items() if value > 0.977]\n",
    "sorted_keys = sorted(keys_with_value, key=lambda x: len(x), reverse=False)\n",
    "feature = sorted_keys[0]\n",
    "print(len(feature))\n",
    "\n",
    "x_train = x_train.filter(items=feature)\n",
    "x_test = x_test.filter(items=feature)"
   ]
  },
  {
   "cell_type": "code",
   "execution_count": 6,
   "metadata": {},
   "outputs": [
    {
     "data": {
      "text/html": [
       "<style>#sk-container-id-1 {color: black;}#sk-container-id-1 pre{padding: 0;}#sk-container-id-1 div.sk-toggleable {background-color: white;}#sk-container-id-1 label.sk-toggleable__label {cursor: pointer;display: block;width: 100%;margin-bottom: 0;padding: 0.3em;box-sizing: border-box;text-align: center;}#sk-container-id-1 label.sk-toggleable__label-arrow:before {content: \"▸\";float: left;margin-right: 0.25em;color: #696969;}#sk-container-id-1 label.sk-toggleable__label-arrow:hover:before {color: black;}#sk-container-id-1 div.sk-estimator:hover label.sk-toggleable__label-arrow:before {color: black;}#sk-container-id-1 div.sk-toggleable__content {max-height: 0;max-width: 0;overflow: hidden;text-align: left;background-color: #f0f8ff;}#sk-container-id-1 div.sk-toggleable__content pre {margin: 0.2em;color: black;border-radius: 0.25em;background-color: #f0f8ff;}#sk-container-id-1 input.sk-toggleable__control:checked~div.sk-toggleable__content {max-height: 200px;max-width: 100%;overflow: auto;}#sk-container-id-1 input.sk-toggleable__control:checked~label.sk-toggleable__label-arrow:before {content: \"▾\";}#sk-container-id-1 div.sk-estimator input.sk-toggleable__control:checked~label.sk-toggleable__label {background-color: #d4ebff;}#sk-container-id-1 div.sk-label input.sk-toggleable__control:checked~label.sk-toggleable__label {background-color: #d4ebff;}#sk-container-id-1 input.sk-hidden--visually {border: 0;clip: rect(1px 1px 1px 1px);clip: rect(1px, 1px, 1px, 1px);height: 1px;margin: -1px;overflow: hidden;padding: 0;position: absolute;width: 1px;}#sk-container-id-1 div.sk-estimator {font-family: monospace;background-color: #f0f8ff;border: 1px dotted black;border-radius: 0.25em;box-sizing: border-box;margin-bottom: 0.5em;}#sk-container-id-1 div.sk-estimator:hover {background-color: #d4ebff;}#sk-container-id-1 div.sk-parallel-item::after {content: \"\";width: 100%;border-bottom: 1px solid gray;flex-grow: 1;}#sk-container-id-1 div.sk-label:hover label.sk-toggleable__label {background-color: #d4ebff;}#sk-container-id-1 div.sk-serial::before {content: \"\";position: absolute;border-left: 1px solid gray;box-sizing: border-box;top: 0;bottom: 0;left: 50%;z-index: 0;}#sk-container-id-1 div.sk-serial {display: flex;flex-direction: column;align-items: center;background-color: white;padding-right: 0.2em;padding-left: 0.2em;position: relative;}#sk-container-id-1 div.sk-item {position: relative;z-index: 1;}#sk-container-id-1 div.sk-parallel {display: flex;align-items: stretch;justify-content: center;background-color: white;position: relative;}#sk-container-id-1 div.sk-item::before, #sk-container-id-1 div.sk-parallel-item::before {content: \"\";position: absolute;border-left: 1px solid gray;box-sizing: border-box;top: 0;bottom: 0;left: 50%;z-index: -1;}#sk-container-id-1 div.sk-parallel-item {display: flex;flex-direction: column;z-index: 1;position: relative;background-color: white;}#sk-container-id-1 div.sk-parallel-item:first-child::after {align-self: flex-end;width: 50%;}#sk-container-id-1 div.sk-parallel-item:last-child::after {align-self: flex-start;width: 50%;}#sk-container-id-1 div.sk-parallel-item:only-child::after {width: 0;}#sk-container-id-1 div.sk-dashed-wrapped {border: 1px dashed gray;margin: 0 0.4em 0.5em 0.4em;box-sizing: border-box;padding-bottom: 0.4em;background-color: white;}#sk-container-id-1 div.sk-label label {font-family: monospace;font-weight: bold;display: inline-block;line-height: 1.2em;}#sk-container-id-1 div.sk-label-container {text-align: center;}#sk-container-id-1 div.sk-container {/* jupyter's `normalize.less` sets `[hidden] { display: none; }` but bootstrap.min.css set `[hidden] { display: none !important; }` so we also need the `!important` here to be able to override the default hidden behavior on the sphinx rendered scikit-learn.org. See: https://github.com/scikit-learn/scikit-learn/issues/21755 */display: inline-block !important;position: relative;}#sk-container-id-1 div.sk-text-repr-fallback {display: none;}</style><div id=\"sk-container-id-1\" class=\"sk-top-container\"><div class=\"sk-text-repr-fallback\"><pre>Pipeline(steps=[(&#x27;scaler&#x27;, MinMaxScaler()),\n",
       "                (&#x27;classifier&#x27;,\n",
       "                 VotingClassifier(estimators=[(&#x27;svc&#x27;,\n",
       "                                               SVC(C=128, gamma=0.0078125,\n",
       "                                                   probability=True)),\n",
       "                                              (&#x27;randomForest&#x27;,\n",
       "                                               RandomForestClassifier(max_depth=12,\n",
       "                                                                      n_estimators=225)),\n",
       "                                              (&#x27;HistGradientBoosting&#x27;,\n",
       "                                               HistGradientBoostingClassifier(max_depth=9)),\n",
       "                                              (&#x27;gradientBoosting&#x27;,\n",
       "                                               GradientBoostingClassifier(n_estimators=200)),\n",
       "                                              (&#x27;naiveBayes&#x27;, GaussianNB())],\n",
       "                                  voting=&#x27;soft&#x27;))])</pre><b>In a Jupyter environment, please rerun this cell to show the HTML representation or trust the notebook. <br />On GitHub, the HTML representation is unable to render, please try loading this page with nbviewer.org.</b></div><div class=\"sk-container\" hidden><div class=\"sk-item sk-dashed-wrapped\"><div class=\"sk-label-container\"><div class=\"sk-label sk-toggleable\"><input class=\"sk-toggleable__control sk-hidden--visually\" id=\"sk-estimator-id-1\" type=\"checkbox\" ><label for=\"sk-estimator-id-1\" class=\"sk-toggleable__label sk-toggleable__label-arrow\">Pipeline</label><div class=\"sk-toggleable__content\"><pre>Pipeline(steps=[(&#x27;scaler&#x27;, MinMaxScaler()),\n",
       "                (&#x27;classifier&#x27;,\n",
       "                 VotingClassifier(estimators=[(&#x27;svc&#x27;,\n",
       "                                               SVC(C=128, gamma=0.0078125,\n",
       "                                                   probability=True)),\n",
       "                                              (&#x27;randomForest&#x27;,\n",
       "                                               RandomForestClassifier(max_depth=12,\n",
       "                                                                      n_estimators=225)),\n",
       "                                              (&#x27;HistGradientBoosting&#x27;,\n",
       "                                               HistGradientBoostingClassifier(max_depth=9)),\n",
       "                                              (&#x27;gradientBoosting&#x27;,\n",
       "                                               GradientBoostingClassifier(n_estimators=200)),\n",
       "                                              (&#x27;naiveBayes&#x27;, GaussianNB())],\n",
       "                                  voting=&#x27;soft&#x27;))])</pre></div></div></div><div class=\"sk-serial\"><div class=\"sk-item\"><div class=\"sk-estimator sk-toggleable\"><input class=\"sk-toggleable__control sk-hidden--visually\" id=\"sk-estimator-id-2\" type=\"checkbox\" ><label for=\"sk-estimator-id-2\" class=\"sk-toggleable__label sk-toggleable__label-arrow\">MinMaxScaler</label><div class=\"sk-toggleable__content\"><pre>MinMaxScaler()</pre></div></div></div><div class=\"sk-item sk-dashed-wrapped\"><div class=\"sk-label-container\"><div class=\"sk-label sk-toggleable\"><input class=\"sk-toggleable__control sk-hidden--visually\" id=\"sk-estimator-id-3\" type=\"checkbox\" ><label for=\"sk-estimator-id-3\" class=\"sk-toggleable__label sk-toggleable__label-arrow\">classifier: VotingClassifier</label><div class=\"sk-toggleable__content\"><pre>VotingClassifier(estimators=[(&#x27;svc&#x27;,\n",
       "                              SVC(C=128, gamma=0.0078125, probability=True)),\n",
       "                             (&#x27;randomForest&#x27;,\n",
       "                              RandomForestClassifier(max_depth=12,\n",
       "                                                     n_estimators=225)),\n",
       "                             (&#x27;HistGradientBoosting&#x27;,\n",
       "                              HistGradientBoostingClassifier(max_depth=9)),\n",
       "                             (&#x27;gradientBoosting&#x27;,\n",
       "                              GradientBoostingClassifier(n_estimators=200)),\n",
       "                             (&#x27;naiveBayes&#x27;, GaussianNB())],\n",
       "                 voting=&#x27;soft&#x27;)</pre></div></div></div><div class=\"sk-parallel\"><div class=\"sk-parallel-item\"><div class=\"sk-item\"><div class=\"sk-label-container\"><div class=\"sk-label sk-toggleable\"><label>svc</label></div></div><div class=\"sk-serial\"><div class=\"sk-item\"><div class=\"sk-estimator sk-toggleable\"><input class=\"sk-toggleable__control sk-hidden--visually\" id=\"sk-estimator-id-4\" type=\"checkbox\" ><label for=\"sk-estimator-id-4\" class=\"sk-toggleable__label sk-toggleable__label-arrow\">SVC</label><div class=\"sk-toggleable__content\"><pre>SVC(C=128, gamma=0.0078125, probability=True)</pre></div></div></div></div></div></div><div class=\"sk-parallel-item\"><div class=\"sk-item\"><div class=\"sk-label-container\"><div class=\"sk-label sk-toggleable\"><label>randomForest</label></div></div><div class=\"sk-serial\"><div class=\"sk-item\"><div class=\"sk-estimator sk-toggleable\"><input class=\"sk-toggleable__control sk-hidden--visually\" id=\"sk-estimator-id-5\" type=\"checkbox\" ><label for=\"sk-estimator-id-5\" class=\"sk-toggleable__label sk-toggleable__label-arrow\">RandomForestClassifier</label><div class=\"sk-toggleable__content\"><pre>RandomForestClassifier(max_depth=12, n_estimators=225)</pre></div></div></div></div></div></div><div class=\"sk-parallel-item\"><div class=\"sk-item\"><div class=\"sk-label-container\"><div class=\"sk-label sk-toggleable\"><label>HistGradientBoosting</label></div></div><div class=\"sk-serial\"><div class=\"sk-item\"><div class=\"sk-estimator sk-toggleable\"><input class=\"sk-toggleable__control sk-hidden--visually\" id=\"sk-estimator-id-6\" type=\"checkbox\" ><label for=\"sk-estimator-id-6\" class=\"sk-toggleable__label sk-toggleable__label-arrow\">HistGradientBoostingClassifier</label><div class=\"sk-toggleable__content\"><pre>HistGradientBoostingClassifier(max_depth=9)</pre></div></div></div></div></div></div><div class=\"sk-parallel-item\"><div class=\"sk-item\"><div class=\"sk-label-container\"><div class=\"sk-label sk-toggleable\"><label>gradientBoosting</label></div></div><div class=\"sk-serial\"><div class=\"sk-item\"><div class=\"sk-estimator sk-toggleable\"><input class=\"sk-toggleable__control sk-hidden--visually\" id=\"sk-estimator-id-7\" type=\"checkbox\" ><label for=\"sk-estimator-id-7\" class=\"sk-toggleable__label sk-toggleable__label-arrow\">GradientBoostingClassifier</label><div class=\"sk-toggleable__content\"><pre>GradientBoostingClassifier(n_estimators=200)</pre></div></div></div></div></div></div><div class=\"sk-parallel-item\"><div class=\"sk-item\"><div class=\"sk-label-container\"><div class=\"sk-label sk-toggleable\"><label>naiveBayes</label></div></div><div class=\"sk-serial\"><div class=\"sk-item\"><div class=\"sk-estimator sk-toggleable\"><input class=\"sk-toggleable__control sk-hidden--visually\" id=\"sk-estimator-id-8\" type=\"checkbox\" ><label for=\"sk-estimator-id-8\" class=\"sk-toggleable__label sk-toggleable__label-arrow\">GaussianNB</label><div class=\"sk-toggleable__content\"><pre>GaussianNB()</pre></div></div></div></div></div></div></div></div></div></div></div></div>"
      ],
      "text/plain": [
       "Pipeline(steps=[('scaler', MinMaxScaler()),\n",
       "                ('classifier',\n",
       "                 VotingClassifier(estimators=[('svc',\n",
       "                                               SVC(C=128, gamma=0.0078125,\n",
       "                                                   probability=True)),\n",
       "                                              ('randomForest',\n",
       "                                               RandomForestClassifier(max_depth=12,\n",
       "                                                                      n_estimators=225)),\n",
       "                                              ('HistGradientBoosting',\n",
       "                                               HistGradientBoostingClassifier(max_depth=9)),\n",
       "                                              ('gradientBoosting',\n",
       "                                               GradientBoostingClassifier(n_estimators=200)),\n",
       "                                              ('naiveBayes', GaussianNB())],\n",
       "                                  voting='soft'))])"
      ]
     },
     "execution_count": 6,
     "metadata": {},
     "output_type": "execute_result"
    }
   ],
   "source": [
    "ensembleSoft.fit(x_train.filter(items=feature), y_train)"
   ]
  },
  {
   "cell_type": "code",
   "execution_count": 7,
   "metadata": {},
   "outputs": [
    {
     "data": {
      "text/plain": [
       "['../../Modelli/DatasetReduced/ensembleSelected_373.pkl']"
      ]
     },
     "execution_count": 7,
     "metadata": {},
     "output_type": "execute_result"
    }
   ],
   "source": [
    "joblib.dump(ensembleSoft, '../../Modelli/DatasetReduced/ensembleSelected_373.pkl')"
   ]
  },
  {
   "cell_type": "code",
   "execution_count": 13,
   "metadata": {},
   "outputs": [],
   "source": [
    "ensembleSelected_373 = joblib.load('../../Modelli/DatasetReduced/ensembleSelected_373.pkl')"
   ]
  },
  {
   "cell_type": "code",
   "execution_count": 14,
   "metadata": {},
   "outputs": [
    {
     "name": "stdout",
     "output_type": "stream",
     "text": [
      "Ensemble model reduced:\n",
      "Iperparametri:  VotingClassifier(estimators=[('svc',\n",
      "                              SVC(C=128, gamma=0.0078125, probability=True)),\n",
      "                             ('randomForest',\n",
      "                              RandomForestClassifier(max_depth=12,\n",
      "                                                     n_estimators=225)),\n",
      "                             ('HistGradientBoosting',\n",
      "                              HistGradientBoostingClassifier(max_depth=9)),\n",
      "                             ('gradientBoosting',\n",
      "                              GradientBoostingClassifier(n_estimators=200)),\n",
      "                             ('naiveBayes', GaussianNB())],\n",
      "                 voting='soft')\n",
      "Training accuracy:  1.0\n",
      "Test accuracy:  0.9547413793103449\n",
      "              precision    recall  f1-score   support\n",
      "\n",
      "           0       0.97      0.95      0.96       287\n",
      "           1       0.93      0.95      0.94       177\n",
      "\n",
      "    accuracy                           0.95       464\n",
      "   macro avg       0.95      0.95      0.95       464\n",
      "weighted avg       0.96      0.95      0.95       464\n",
      "\n"
     ]
    }
   ],
   "source": [
    "print(\"Ensemble model reduced:\")\n",
    "print(\"Iperparametri: \", ensembleSelected_373.named_steps['classifier'])\n",
    "print(\"Training accuracy: \", ensembleSelected_373.score(x_train, y_train))\n",
    "print(\"Test accuracy: \", ensembleSelected_373.score(x_test, y_test))\n",
    "print(classification_report(y_test, ensembleSelected_373.predict(x_test)))"
   ]
  }
 ],
 "metadata": {
  "kernelspec": {
   "display_name": "Python 3",
   "language": "python",
   "name": "python3"
  },
  "language_info": {
   "codemirror_mode": {
    "name": "ipython",
    "version": 3
   },
   "file_extension": ".py",
   "mimetype": "text/x-python",
   "name": "python",
   "nbconvert_exporter": "python",
   "pygments_lexer": "ipython3",
   "version": "3.11.0"
  }
 },
 "nbformat": 4,
 "nbformat_minor": 2
}
